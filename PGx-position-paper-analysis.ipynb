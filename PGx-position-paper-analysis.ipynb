{
 "cells": [
  {
   "cell_type": "markdown",
   "metadata": {},
   "source": [
    "# <center> Figures for PGx Position Paper </center>\n",
    "--- \n",
    "\n",
    "## 1. Setting up environment"
   ]
  },
  {
   "cell_type": "markdown",
   "metadata": {},
   "source": [
    " Load rpy2 package to use both R and python within the same notebook."
   ]
  },
  {
   "cell_type": "code",
   "execution_count": 2,
   "metadata": {},
   "outputs": [],
   "source": [
    "%load_ext rpy2.ipython\n"
   ]
  },
  {
   "cell_type": "markdown",
   "metadata": {},
   "source": [
    "Import python packages and R libraries."
   ]
  },
  {
   "cell_type": "code",
   "execution_count": 3,
   "metadata": {},
   "outputs": [],
   "source": [
    "import glob\n",
    "from itertools import product\n",
    "import pandas as pd\n",
    "import plotly.graph_objects as go\n",
    "import os\n",
    "import re\n",
    "\n",
    "import pypgx\n",
    "\n",
    "from utils import *"
   ]
  },
  {
   "cell_type": "code",
   "execution_count": 4,
   "metadata": {},
   "outputs": [
    {
     "name": "stdout",
     "output_type": "stream",
     "text": [
      "-- Attaching core tidyverse packages ------------------------ tidyverse 2.0.0 --\n",
      "v forcats   1.0.0     v stringr   1.5.1\n",
      "v lubridate 1.9.3     v tibble    3.2.1\n",
      "v purrr     1.0.2     v tidyr     1.3.1\n",
      "v readr     2.1.5     \n",
      "-- Conflicts ------------------------------------------ tidyverse_conflicts() --\n",
      "x dplyr::filter() masks stats::filter()\n",
      "x dplyr::lag()    masks stats::lag()\n",
      "i Use the conflicted package (<http://conflicted.r-lib.org/>) to force all conflicts to become errors\n"
     ]
    },
    {
     "data": {
      "text/plain": [
       "\n",
       "Attaching package: 'dplyr'\n",
       "\n",
       "The following objects are masked from 'package:stats':\n",
       "\n",
       "    filter, lag\n",
       "\n",
       "The following objects are masked from 'package:base':\n",
       "\n",
       "    intersect, setdiff, setequal, union\n",
       "\n"
      ]
     },
     "metadata": {},
     "output_type": "display_data"
    }
   ],
   "source": [
    "%%R \n",
    "library(\"dplyr\")\n",
    "library(\"ggplot2\")\n",
    "library(\"patchwork\")\n",
    "library(\"tidyverse\")"
   ]
  },
  {
   "cell_type": "markdown",
   "metadata": {},
   "source": [
    "Define global variables."
   ]
  },
  {
   "cell_type": "code",
   "execution_count": 5,
   "metadata": {},
   "outputs": [],
   "source": [
    "PHARMVAR_DIR = \"/mnt/c/Users/VDMAASS/PGx/PGx-position-paper/PharmVar_databases\""
   ]
  },
  {
   "cell_type": "markdown",
   "metadata": {},
   "source": [
    "## 2. Creating Figures."
   ]
  },
  {
   "cell_type": "markdown",
   "metadata": {},
   "source": [
    "### 2.1 Sankey plot of star alleles throughout versions of PharmVar"
   ]
  },
  {
   "cell_type": "code",
   "execution_count": 17,
   "metadata": {},
   "outputs": [
    {
     "ename": "OSError",
     "evalue": "Cannot save file into a non-existent directory: '/mnt/C/Users/VDMAASS/PGx/PGX-position-paper'",
     "output_type": "error",
     "traceback": [
      "\u001b[0;31m---------------------------------------------------------------------------\u001b[0m",
      "\u001b[0;31mOSError\u001b[0m                                   Traceback (most recent call last)",
      "Cell \u001b[0;32mIn[17], line 2\u001b[0m\n\u001b[1;32m      1\u001b[0m allele_df \u001b[38;5;241m=\u001b[39m generate_pharmvar_historical_data(PHARMVAR_DIR)\n\u001b[0;32m----> 2\u001b[0m \u001b[43mallele_df\u001b[49m\u001b[38;5;241;43m.\u001b[39;49m\u001b[43mto_excel\u001b[49m\u001b[43m(\u001b[49m\u001b[38;5;124;43m\"\u001b[39;49m\u001b[38;5;124;43m/mnt/C/Users/VDMAASS/PGx/PGX-position-paper/star_allele_data.xlsx\u001b[39;49m\u001b[38;5;124;43m\"\u001b[39;49m\u001b[43m)\u001b[49m\n\u001b[1;32m      3\u001b[0m \u001b[38;5;28mprint\u001b[39m(allele_df\u001b[38;5;241m.\u001b[39mhead())\n\u001b[1;32m      4\u001b[0m allele_df[\u001b[38;5;124m\"\u001b[39m\u001b[38;5;124mAllele\u001b[39m\u001b[38;5;124m\"\u001b[39m] \u001b[38;5;241m=\u001b[39m allele_df[\u001b[38;5;124m\"\u001b[39m\u001b[38;5;124mAllele\u001b[39m\u001b[38;5;124m\"\u001b[39m]\u001b[38;5;241m.\u001b[39mapply(keep_major_allele)\n",
      "File \u001b[0;32m~/micromamba/envs/updated_diplotypes/lib/python3.12/site-packages/pandas/util/_decorators.py:333\u001b[0m, in \u001b[0;36mdeprecate_nonkeyword_arguments.<locals>.decorate.<locals>.wrapper\u001b[0;34m(*args, **kwargs)\u001b[0m\n\u001b[1;32m    327\u001b[0m \u001b[38;5;28;01mif\u001b[39;00m \u001b[38;5;28mlen\u001b[39m(args) \u001b[38;5;241m>\u001b[39m num_allow_args:\n\u001b[1;32m    328\u001b[0m     warnings\u001b[38;5;241m.\u001b[39mwarn(\n\u001b[1;32m    329\u001b[0m         msg\u001b[38;5;241m.\u001b[39mformat(arguments\u001b[38;5;241m=\u001b[39m_format_argument_list(allow_args)),\n\u001b[1;32m    330\u001b[0m         \u001b[38;5;167;01mFutureWarning\u001b[39;00m,\n\u001b[1;32m    331\u001b[0m         stacklevel\u001b[38;5;241m=\u001b[39mfind_stack_level(),\n\u001b[1;32m    332\u001b[0m     )\n\u001b[0;32m--> 333\u001b[0m \u001b[38;5;28;01mreturn\u001b[39;00m \u001b[43mfunc\u001b[49m\u001b[43m(\u001b[49m\u001b[38;5;241;43m*\u001b[39;49m\u001b[43margs\u001b[49m\u001b[43m,\u001b[49m\u001b[43m \u001b[49m\u001b[38;5;241;43m*\u001b[39;49m\u001b[38;5;241;43m*\u001b[39;49m\u001b[43mkwargs\u001b[49m\u001b[43m)\u001b[49m\n",
      "File \u001b[0;32m~/micromamba/envs/updated_diplotypes/lib/python3.12/site-packages/pandas/core/generic.py:2417\u001b[0m, in \u001b[0;36mNDFrame.to_excel\u001b[0;34m(self, excel_writer, sheet_name, na_rep, float_format, columns, header, index, index_label, startrow, startcol, engine, merge_cells, inf_rep, freeze_panes, storage_options, engine_kwargs)\u001b[0m\n\u001b[1;32m   2404\u001b[0m \u001b[38;5;28;01mfrom\u001b[39;00m \u001b[38;5;21;01mpandas\u001b[39;00m\u001b[38;5;21;01m.\u001b[39;00m\u001b[38;5;21;01mio\u001b[39;00m\u001b[38;5;21;01m.\u001b[39;00m\u001b[38;5;21;01mformats\u001b[39;00m\u001b[38;5;21;01m.\u001b[39;00m\u001b[38;5;21;01mexcel\u001b[39;00m \u001b[38;5;28;01mimport\u001b[39;00m ExcelFormatter\n\u001b[1;32m   2406\u001b[0m formatter \u001b[38;5;241m=\u001b[39m ExcelFormatter(\n\u001b[1;32m   2407\u001b[0m     df,\n\u001b[1;32m   2408\u001b[0m     na_rep\u001b[38;5;241m=\u001b[39mna_rep,\n\u001b[0;32m   (...)\u001b[0m\n\u001b[1;32m   2415\u001b[0m     inf_rep\u001b[38;5;241m=\u001b[39minf_rep,\n\u001b[1;32m   2416\u001b[0m )\n\u001b[0;32m-> 2417\u001b[0m \u001b[43mformatter\u001b[49m\u001b[38;5;241;43m.\u001b[39;49m\u001b[43mwrite\u001b[49m\u001b[43m(\u001b[49m\n\u001b[1;32m   2418\u001b[0m \u001b[43m    \u001b[49m\u001b[43mexcel_writer\u001b[49m\u001b[43m,\u001b[49m\n\u001b[1;32m   2419\u001b[0m \u001b[43m    \u001b[49m\u001b[43msheet_name\u001b[49m\u001b[38;5;241;43m=\u001b[39;49m\u001b[43msheet_name\u001b[49m\u001b[43m,\u001b[49m\n\u001b[1;32m   2420\u001b[0m \u001b[43m    \u001b[49m\u001b[43mstartrow\u001b[49m\u001b[38;5;241;43m=\u001b[39;49m\u001b[43mstartrow\u001b[49m\u001b[43m,\u001b[49m\n\u001b[1;32m   2421\u001b[0m \u001b[43m    \u001b[49m\u001b[43mstartcol\u001b[49m\u001b[38;5;241;43m=\u001b[39;49m\u001b[43mstartcol\u001b[49m\u001b[43m,\u001b[49m\n\u001b[1;32m   2422\u001b[0m \u001b[43m    \u001b[49m\u001b[43mfreeze_panes\u001b[49m\u001b[38;5;241;43m=\u001b[39;49m\u001b[43mfreeze_panes\u001b[49m\u001b[43m,\u001b[49m\n\u001b[1;32m   2423\u001b[0m \u001b[43m    \u001b[49m\u001b[43mengine\u001b[49m\u001b[38;5;241;43m=\u001b[39;49m\u001b[43mengine\u001b[49m\u001b[43m,\u001b[49m\n\u001b[1;32m   2424\u001b[0m \u001b[43m    \u001b[49m\u001b[43mstorage_options\u001b[49m\u001b[38;5;241;43m=\u001b[39;49m\u001b[43mstorage_options\u001b[49m\u001b[43m,\u001b[49m\n\u001b[1;32m   2425\u001b[0m \u001b[43m    \u001b[49m\u001b[43mengine_kwargs\u001b[49m\u001b[38;5;241;43m=\u001b[39;49m\u001b[43mengine_kwargs\u001b[49m\u001b[43m,\u001b[49m\n\u001b[1;32m   2426\u001b[0m \u001b[43m\u001b[49m\u001b[43m)\u001b[49m\n",
      "File \u001b[0;32m~/micromamba/envs/updated_diplotypes/lib/python3.12/site-packages/pandas/io/formats/excel.py:943\u001b[0m, in \u001b[0;36mExcelFormatter.write\u001b[0;34m(self, writer, sheet_name, startrow, startcol, freeze_panes, engine, storage_options, engine_kwargs)\u001b[0m\n\u001b[1;32m    941\u001b[0m     need_save \u001b[38;5;241m=\u001b[39m \u001b[38;5;28;01mFalse\u001b[39;00m\n\u001b[1;32m    942\u001b[0m \u001b[38;5;28;01melse\u001b[39;00m:\n\u001b[0;32m--> 943\u001b[0m     writer \u001b[38;5;241m=\u001b[39m \u001b[43mExcelWriter\u001b[49m\u001b[43m(\u001b[49m\n\u001b[1;32m    944\u001b[0m \u001b[43m        \u001b[49m\u001b[43mwriter\u001b[49m\u001b[43m,\u001b[49m\n\u001b[1;32m    945\u001b[0m \u001b[43m        \u001b[49m\u001b[43mengine\u001b[49m\u001b[38;5;241;43m=\u001b[39;49m\u001b[43mengine\u001b[49m\u001b[43m,\u001b[49m\n\u001b[1;32m    946\u001b[0m \u001b[43m        \u001b[49m\u001b[43mstorage_options\u001b[49m\u001b[38;5;241;43m=\u001b[39;49m\u001b[43mstorage_options\u001b[49m\u001b[43m,\u001b[49m\n\u001b[1;32m    947\u001b[0m \u001b[43m        \u001b[49m\u001b[43mengine_kwargs\u001b[49m\u001b[38;5;241;43m=\u001b[39;49m\u001b[43mengine_kwargs\u001b[49m\u001b[43m,\u001b[49m\n\u001b[1;32m    948\u001b[0m \u001b[43m    \u001b[49m\u001b[43m)\u001b[49m\n\u001b[1;32m    949\u001b[0m     need_save \u001b[38;5;241m=\u001b[39m \u001b[38;5;28;01mTrue\u001b[39;00m\n\u001b[1;32m    951\u001b[0m \u001b[38;5;28;01mtry\u001b[39;00m:\n",
      "File \u001b[0;32m~/micromamba/envs/updated_diplotypes/lib/python3.12/site-packages/pandas/io/excel/_openpyxl.py:61\u001b[0m, in \u001b[0;36mOpenpyxlWriter.__init__\u001b[0;34m(self, path, engine, date_format, datetime_format, mode, storage_options, if_sheet_exists, engine_kwargs, **kwargs)\u001b[0m\n\u001b[1;32m     57\u001b[0m \u001b[38;5;28;01mfrom\u001b[39;00m \u001b[38;5;21;01mopenpyxl\u001b[39;00m\u001b[38;5;21;01m.\u001b[39;00m\u001b[38;5;21;01mworkbook\u001b[39;00m \u001b[38;5;28;01mimport\u001b[39;00m Workbook\n\u001b[1;32m     59\u001b[0m engine_kwargs \u001b[38;5;241m=\u001b[39m combine_kwargs(engine_kwargs, kwargs)\n\u001b[0;32m---> 61\u001b[0m \u001b[38;5;28;43msuper\u001b[39;49m\u001b[43m(\u001b[49m\u001b[43m)\u001b[49m\u001b[38;5;241;43m.\u001b[39;49m\u001b[38;5;21;43m__init__\u001b[39;49m\u001b[43m(\u001b[49m\n\u001b[1;32m     62\u001b[0m \u001b[43m    \u001b[49m\u001b[43mpath\u001b[49m\u001b[43m,\u001b[49m\n\u001b[1;32m     63\u001b[0m \u001b[43m    \u001b[49m\u001b[43mmode\u001b[49m\u001b[38;5;241;43m=\u001b[39;49m\u001b[43mmode\u001b[49m\u001b[43m,\u001b[49m\n\u001b[1;32m     64\u001b[0m \u001b[43m    \u001b[49m\u001b[43mstorage_options\u001b[49m\u001b[38;5;241;43m=\u001b[39;49m\u001b[43mstorage_options\u001b[49m\u001b[43m,\u001b[49m\n\u001b[1;32m     65\u001b[0m \u001b[43m    \u001b[49m\u001b[43mif_sheet_exists\u001b[49m\u001b[38;5;241;43m=\u001b[39;49m\u001b[43mif_sheet_exists\u001b[49m\u001b[43m,\u001b[49m\n\u001b[1;32m     66\u001b[0m \u001b[43m    \u001b[49m\u001b[43mengine_kwargs\u001b[49m\u001b[38;5;241;43m=\u001b[39;49m\u001b[43mengine_kwargs\u001b[49m\u001b[43m,\u001b[49m\n\u001b[1;32m     67\u001b[0m \u001b[43m\u001b[49m\u001b[43m)\u001b[49m\n\u001b[1;32m     69\u001b[0m \u001b[38;5;66;03m# ExcelWriter replaced \"a\" by \"r+\" to allow us to first read the excel file from\u001b[39;00m\n\u001b[1;32m     70\u001b[0m \u001b[38;5;66;03m# the file and later write to it\u001b[39;00m\n\u001b[1;32m     71\u001b[0m \u001b[38;5;28;01mif\u001b[39;00m \u001b[38;5;124m\"\u001b[39m\u001b[38;5;124mr+\u001b[39m\u001b[38;5;124m\"\u001b[39m \u001b[38;5;129;01min\u001b[39;00m \u001b[38;5;28mself\u001b[39m\u001b[38;5;241m.\u001b[39m_mode:  \u001b[38;5;66;03m# Load from existing workbook\u001b[39;00m\n",
      "File \u001b[0;32m~/micromamba/envs/updated_diplotypes/lib/python3.12/site-packages/pandas/io/excel/_base.py:1246\u001b[0m, in \u001b[0;36mExcelWriter.__init__\u001b[0;34m(self, path, engine, date_format, datetime_format, mode, storage_options, if_sheet_exists, engine_kwargs)\u001b[0m\n\u001b[1;32m   1242\u001b[0m \u001b[38;5;28mself\u001b[39m\u001b[38;5;241m.\u001b[39m_handles \u001b[38;5;241m=\u001b[39m IOHandles(\n\u001b[1;32m   1243\u001b[0m     cast(IO[\u001b[38;5;28mbytes\u001b[39m], path), compression\u001b[38;5;241m=\u001b[39m{\u001b[38;5;124m\"\u001b[39m\u001b[38;5;124mcompression\u001b[39m\u001b[38;5;124m\"\u001b[39m: \u001b[38;5;28;01mNone\u001b[39;00m}\n\u001b[1;32m   1244\u001b[0m )\n\u001b[1;32m   1245\u001b[0m \u001b[38;5;28;01mif\u001b[39;00m \u001b[38;5;129;01mnot\u001b[39;00m \u001b[38;5;28misinstance\u001b[39m(path, ExcelWriter):\n\u001b[0;32m-> 1246\u001b[0m     \u001b[38;5;28mself\u001b[39m\u001b[38;5;241m.\u001b[39m_handles \u001b[38;5;241m=\u001b[39m \u001b[43mget_handle\u001b[49m\u001b[43m(\u001b[49m\n\u001b[1;32m   1247\u001b[0m \u001b[43m        \u001b[49m\u001b[43mpath\u001b[49m\u001b[43m,\u001b[49m\u001b[43m \u001b[49m\u001b[43mmode\u001b[49m\u001b[43m,\u001b[49m\u001b[43m \u001b[49m\u001b[43mstorage_options\u001b[49m\u001b[38;5;241;43m=\u001b[39;49m\u001b[43mstorage_options\u001b[49m\u001b[43m,\u001b[49m\u001b[43m \u001b[49m\u001b[43mis_text\u001b[49m\u001b[38;5;241;43m=\u001b[39;49m\u001b[38;5;28;43;01mFalse\u001b[39;49;00m\n\u001b[1;32m   1248\u001b[0m \u001b[43m    \u001b[49m\u001b[43m)\u001b[49m\n\u001b[1;32m   1249\u001b[0m \u001b[38;5;28mself\u001b[39m\u001b[38;5;241m.\u001b[39m_cur_sheet \u001b[38;5;241m=\u001b[39m \u001b[38;5;28;01mNone\u001b[39;00m\n\u001b[1;32m   1251\u001b[0m \u001b[38;5;28;01mif\u001b[39;00m date_format \u001b[38;5;129;01mis\u001b[39;00m \u001b[38;5;28;01mNone\u001b[39;00m:\n",
      "File \u001b[0;32m~/micromamba/envs/updated_diplotypes/lib/python3.12/site-packages/pandas/io/common.py:749\u001b[0m, in \u001b[0;36mget_handle\u001b[0;34m(path_or_buf, mode, encoding, compression, memory_map, is_text, errors, storage_options)\u001b[0m\n\u001b[1;32m    747\u001b[0m \u001b[38;5;66;03m# Only for write methods\u001b[39;00m\n\u001b[1;32m    748\u001b[0m \u001b[38;5;28;01mif\u001b[39;00m \u001b[38;5;124m\"\u001b[39m\u001b[38;5;124mr\u001b[39m\u001b[38;5;124m\"\u001b[39m \u001b[38;5;129;01mnot\u001b[39;00m \u001b[38;5;129;01min\u001b[39;00m mode \u001b[38;5;129;01mand\u001b[39;00m is_path:\n\u001b[0;32m--> 749\u001b[0m     \u001b[43mcheck_parent_directory\u001b[49m\u001b[43m(\u001b[49m\u001b[38;5;28;43mstr\u001b[39;49m\u001b[43m(\u001b[49m\u001b[43mhandle\u001b[49m\u001b[43m)\u001b[49m\u001b[43m)\u001b[49m\n\u001b[1;32m    751\u001b[0m \u001b[38;5;28;01mif\u001b[39;00m compression:\n\u001b[1;32m    752\u001b[0m     \u001b[38;5;28;01mif\u001b[39;00m compression \u001b[38;5;241m!=\u001b[39m \u001b[38;5;124m\"\u001b[39m\u001b[38;5;124mzstd\u001b[39m\u001b[38;5;124m\"\u001b[39m:\n\u001b[1;32m    753\u001b[0m         \u001b[38;5;66;03m# compression libraries do not like an explicit text-mode\u001b[39;00m\n",
      "File \u001b[0;32m~/micromamba/envs/updated_diplotypes/lib/python3.12/site-packages/pandas/io/common.py:616\u001b[0m, in \u001b[0;36mcheck_parent_directory\u001b[0;34m(path)\u001b[0m\n\u001b[1;32m    614\u001b[0m parent \u001b[38;5;241m=\u001b[39m Path(path)\u001b[38;5;241m.\u001b[39mparent\n\u001b[1;32m    615\u001b[0m \u001b[38;5;28;01mif\u001b[39;00m \u001b[38;5;129;01mnot\u001b[39;00m parent\u001b[38;5;241m.\u001b[39mis_dir():\n\u001b[0;32m--> 616\u001b[0m     \u001b[38;5;28;01mraise\u001b[39;00m \u001b[38;5;167;01mOSError\u001b[39;00m(\u001b[38;5;124mrf\u001b[39m\u001b[38;5;124m\"\u001b[39m\u001b[38;5;124mCannot save file into a non-existent directory: \u001b[39m\u001b[38;5;124m'\u001b[39m\u001b[38;5;132;01m{\u001b[39;00mparent\u001b[38;5;132;01m}\u001b[39;00m\u001b[38;5;124m'\u001b[39m\u001b[38;5;124m\"\u001b[39m)\n",
      "\u001b[0;31mOSError\u001b[0m: Cannot save file into a non-existent directory: '/mnt/C/Users/VDMAASS/PGx/PGX-position-paper'"
     ]
    }
   ],
   "source": [
    "allele_df = generate_pharmvar_historical_data(PHARMVAR_DIR)\n",
    "allele_df.to_excel(\"/mnt/c/Users/VDMAASS/PGx/PGx-position-paper/star_allele_data.xlsx\")\n",
    "print(allele_df.head())\n",
    "allele_df[\"Allele\"] = allele_df[\"Allele\"].apply(keep_major_allele)\n",
    "allele_df_keep = allele_df[[\"Allele\", \"Version\"]]\n",
    "allele_df_collapsed = allele_df_keep.drop_duplicates(subset = [\"Allele\", \"Version\"])\n",
    "\n",
    "unique_alleles = allele_df_collapsed[\"Allele\"].unique()\n",
    "unique_alleles.sort()\n",
    "\n",
    "sankey_df = pd.DataFrame({'Allele': unique_alleles})\n",
    "versions = allele_df_collapsed['Version'].unique()\n",
    "\n",
    "for version in versions:\n",
    "    sankey_df[version] = sankey_df['Allele'].isin(allele_df_collapsed[allele_df_collapsed['Version'] == version]['Allele']).astype(int)\n",
    "\n",
    "\n",
    "sankey_df = compare_versions_counts(sankey_df)\n",
    "nodes, links, x_positions, y_positions = generate_sankey_data(sankey_df)\n",
    "fig = create_sankey_plot(nodes, links, x_positions, y_positions)\n",
    "\n",
    "fig.write_html(\"/mnt/c/Users/VDMAASS/PGx/PGx-position-paper/figures/major_release_pharmvar_sankey_diagram.html\")\n",
    "\n"
   ]
  },
  {
   "cell_type": "markdown",
   "metadata": {},
   "source": [
    "### 2.2 Stacked Line chart of star alleles throughout versions of PharmVar"
   ]
  },
  {
   "cell_type": "code",
   "execution_count": 7,
   "metadata": {},
   "outputs": [
    {
     "name": "stdout",
     "output_type": "stream",
     "text": [
      "          Date  allele_type  Count\n",
      "0   2018-05-22  core-allele    193\n",
      "1   2018-05-22   sub-allele     62\n",
      "2   2018-07-27  core-allele    246\n",
      "3   2018-07-27   sub-allele     90\n",
      "4   2018-11-05   sub-allele     90\n",
      "5   2019-05-07  core-allele    199\n",
      "6   2019-05-07   sub-allele    134\n",
      "7   2021-08-02  core-allele    362\n",
      "8   2021-08-02   sub-allele    305\n",
      "9   2023-05-12  core-allele    504\n",
      "10  2023-05-12   sub-allele    381\n",
      "11  2024-06-28  core-allele    563\n",
      "12  2024-06-28   sub-allele    435\n"
     ]
    }
   ],
   "source": [
    "allele_df = generate_pharmvar_historical_data(PHARMVAR_DIR)\n",
    "allele_df = allele_df[[\"Allele\", \"Gene\", \"Date\", \"Version\"]]\n",
    "# Remove duplicates based on Allele and Version\n",
    "allele_df_collapsed = allele_df.drop_duplicates(subset = [\"Allele\", \"Version\"])\n",
    "# Remove the .001 alleles, as these are duplicates of the *1 reference alleles.\n",
    "allele_df_collapsed = allele_df_collapsed[~allele_df_collapsed['Allele'].str.endswith(\".001\")].reset_index(drop = True) \n",
    "# Categorize the alleles based on sub or core allele.\n",
    "allele_df_collapsed[\"allele_type\"] = allele_df_collapsed[\"Allele\"].apply(categorize_alleles)\n",
    "# convert to tidy df and add a count column for the amount of core-alleles and sub-alleles per date\n",
    "tidy_df = allele_df_collapsed.groupby([\"Date\", \"allele_type\"]).size().reset_index(name = \"Count\")\n",
    "\n",
    "print(tidy_df)"
   ]
  },
  {
   "cell_type": "code",
   "execution_count": 8,
   "metadata": {},
   "outputs": [
    {
     "data": {
      "image/png": "[encoded data removed]",
      "text/plain": [
       "<IPython.core.display.Image object>"
      ]
     },
     "metadata": {},
     "output_type": "display_data"
    }
   ],
   "source": [
    "%%R -i tidy_df\n",
    "\n",
    "tidy_df %>%\n",
    "    mutate(Date = as.Date(Date, format = \"%Y-%m-%d\")) -> tidy_df\n",
    "\n",
    "ggplot(tidy_df, aes(x = Date, y = Count, fill = allele_type)) +\n",
    "    geom_area(stat = \"identity\") +\n",
    "    theme(axis.text.x = element_text(angle = 90, hjust = 1)) +\n",
    "    labs(title = \"Number of core-alleles and sub-alleles\",\n",
    "         x = \"Date\",\n",
    "         y = \"Number of alleles\",\n",
    "         fill = \"Allele type\")\n"
   ]
  },
  {
   "cell_type": "markdown",
   "metadata": {},
   "source": [
    "### 2.3 Visualize updated calls and their impact"
   ]
  },
  {
   "cell_type": "markdown",
   "metadata": {},
   "source": [
    "2.3.1 Generate a stacked bar plot depicting the number of updated calls per gene compared to the GeT-RM dataset."
   ]
  },
  {
   "cell_type": "code",
   "execution_count": 9,
   "metadata": {},
   "outputs": [
    {
     "name": "stdout",
     "output_type": "stream",
     "text": [
      "       Gene Updated_calls  Count\n",
      "0      DPYD       Updated   46.0\n",
      "1   SLCO1B1       Updated   43.0\n",
      "2    CYP2B6       Updated   41.0\n",
      "3    CYP1A1       Updated   31.0\n",
      "4   CYP2A13       Updated   20.0\n",
      "5    CYP2A6       Updated   13.0\n",
      "6    CYP4F2       Updated   11.0\n",
      "7   CYP3A43       Updated   10.0\n",
      "8    CYP3A7       Updated    7.0\n",
      "9    CYP2C8       Updated    5.0\n",
      "10   CYP2S1       Updated    4.0\n",
      "11  CYP2C19       Updated    3.0\n",
      "12   CYP1A2       Updated    1.0\n",
      "13   CYP2C9       Updated    1.0\n",
      "14   CYP2J2       Updated    1.0\n",
      "15   CYP2D6       Updated    0.0\n",
      "16   CYP3A4       Updated    0.0\n",
      "17   CYP3A5       Updated    0.0\n",
      "18     TPMT       Updated    0.0\n",
      "19   CYP2D6   Not_updated  137.0\n",
      "20   CYP3A4   Not_updated  137.0\n",
      "21   CYP3A5   Not_updated  137.0\n",
      "22     TPMT   Not_updated  137.0\n",
      "23   CYP2C9   Not_updated  136.0\n",
      "24  CYP2C19   Not_updated  134.0\n",
      "25   CYP2C8   Not_updated  132.0\n",
      "26   CYP4F2   Not_updated  126.0\n",
      "27   CYP2A6   Not_updated  124.0\n",
      "28   CYP2B6   Not_updated   96.0\n",
      "29   CYP1A2   Not_updated   95.0\n",
      "30   CYP2J2   Not_updated   95.0\n",
      "31  SLCO1B1   Not_updated   94.0\n",
      "32   CYP2S1   Not_updated   92.0\n",
      "33     DPYD   Not_updated   91.0\n",
      "34   CYP3A7   Not_updated   89.0\n",
      "35  CYP3A43   Not_updated   86.0\n",
      "36  CYP2A13   Not_updated   76.0\n",
      "37   CYP1A1   Not_updated   65.0\n"
     ]
    }
   ],
   "source": [
    "all_calls = (pd.read_excel(\"/mnt/c/Users/VDMAASS/PGx/PGx-position-paper/Supplemental_Experiments_Aldy2023.xlsx\",\n",
    "                        sheet_name = \"Short Reads\",\n",
    "                        header = 1)\n",
    "                        .filter([\"Sample\", \"Gene\", \"GeT-RM\", \"Updated Call\"])\n",
    "                        .reset_index())\n",
    "\n",
    "\n",
    "all_calls[\"Updated Call\"] = all_calls[\"Updated Call\"].notnull().replace({True: \"Updated\", False: \"Not_updated\"})\n",
    "\n",
    "\n",
    "# group by gene and count the amount of updated and not updated calls per gene and convert to tidy format\n",
    "all_calls = all_calls.groupby(\"Gene\")[\"Updated Call\"].value_counts().unstack().fillna(0).reset_index()\n",
    "# convert to tidy format\n",
    "all_calls_tidy = pd.melt(all_calls, id_vars = \"Gene\",  value_vars = [\"Not_updated\", \"Updated\"], value_name = \"Count\")\n",
    "# sort values by Gene\n",
    "all_calls_tidy = all_calls_tidy.sort_values([\"Updated Call\", \"Count\"], ascending = [False, False])\n",
    "# rename columns\n",
    "all_calls_tidy = all_calls_tidy.rename(columns = {\"Updated Call\": \"Updated_calls\"}).reset_index(drop = True)\n",
    "# skip DPYD\n",
    "\n",
    "\n",
    "\n",
    "print(all_calls_tidy)"
   ]
  },
  {
   "cell_type": "code",
   "execution_count": 10,
   "metadata": {},
   "outputs": [
    {
     "data": {
      "image/png": "[encoded data removed]",
      "text/plain": [
       "<IPython.core.display.Image object>"
      ]
     },
     "metadata": {},
     "output_type": "display_data"
    }
   ],
   "source": [
    "%%R -i all_calls_tidy -w 800 -h 600\n",
    "\n",
    "ggplot(all_calls_tidy, aes(x = Gene, y = Count, fill = Updated_calls)) +\n",
    "    geom_bar(stat = \"identity\", position = \"stack\") +\n",
    "    theme(axis.text.x = element_text(angle = 90, hjust = 1)) +\n",
    "    labs(title = \"Number of updated and not updated calls per gene\",\n",
    "         x = \"Gene\",\n",
    "         y = \"Number of calls\",\n",
    "         fill = \"Call status\")\n"
   ]
  },
  {
   "cell_type": "markdown",
   "metadata": {},
   "source": [
    "2.3.2 Stacked bar plot depicting the types of changes for every updated call."
   ]
  },
  {
   "cell_type": "code",
   "execution_count": 11,
   "metadata": {},
   "outputs": [
    {
     "name": "stderr",
     "output_type": "stream",
     "text": [
      "/home/svenvdm/micromamba/envs/updated_diplotypes/lib/python3.12/site-packages/pypgx/api/core.py:1382: UserWarning:\n",
      "\n",
      "*16 not found in the allele table for CYP2B6\n",
      "\n",
      "/home/svenvdm/micromamba/envs/updated_diplotypes/lib/python3.12/site-packages/pypgx/api/core.py:1382: UserWarning:\n",
      "\n",
      "*17 not found in the allele table for SLCO1B1\n",
      "\n",
      "/home/svenvdm/micromamba/envs/updated_diplotypes/lib/python3.12/site-packages/pypgx/api/core.py:1382: UserWarning:\n",
      "\n",
      "*21 not found in the allele table for SLCO1B1\n",
      "\n",
      "/home/svenvdm/micromamba/envs/updated_diplotypes/lib/python3.12/site-packages/pypgx/api/core.py:1382: UserWarning:\n",
      "\n",
      "*21 not found in the allele table for SLCO1B1\n",
      "\n",
      "/home/svenvdm/micromamba/envs/updated_diplotypes/lib/python3.12/site-packages/pypgx/api/core.py:1382: UserWarning:\n",
      "\n",
      "*21 not found in the allele table for SLCO1B1\n",
      "\n",
      "/home/svenvdm/micromamba/envs/updated_diplotypes/lib/python3.12/site-packages/pypgx/api/core.py:1382: UserWarning:\n",
      "\n",
      "*21 not found in the allele table for SLCO1B1\n",
      "\n",
      "/home/svenvdm/micromamba/envs/updated_diplotypes/lib/python3.12/site-packages/pypgx/api/core.py:1382: UserWarning:\n",
      "\n",
      "*21 not found in the allele table for SLCO1B1\n",
      "\n",
      "/home/svenvdm/micromamba/envs/updated_diplotypes/lib/python3.12/site-packages/pypgx/api/core.py:1382: UserWarning:\n",
      "\n",
      "*17 not found in the allele table for SLCO1B1\n",
      "\n",
      "/home/svenvdm/micromamba/envs/updated_diplotypes/lib/python3.12/site-packages/pypgx/api/core.py:1382: UserWarning:\n",
      "\n",
      "*17 not found in the allele table for SLCO1B1\n",
      "\n",
      "/home/svenvdm/micromamba/envs/updated_diplotypes/lib/python3.12/site-packages/pypgx/api/core.py:1382: UserWarning:\n",
      "\n",
      "*17 not found in the allele table for SLCO1B1\n",
      "\n",
      "/home/svenvdm/micromamba/envs/updated_diplotypes/lib/python3.12/site-packages/pypgx/api/core.py:1380: UserWarning:\n",
      "\n",
      "*18 not found in the allele table for SLCO1B1\n",
      "\n",
      "/home/svenvdm/micromamba/envs/updated_diplotypes/lib/python3.12/site-packages/pypgx/api/core.py:1382: UserWarning:\n",
      "\n",
      "*17 not found in the allele table for SLCO1B1\n",
      "\n",
      "/home/svenvdm/micromamba/envs/updated_diplotypes/lib/python3.12/site-packages/pypgx/api/core.py:1382: UserWarning:\n",
      "\n",
      "*17 not found in the allele table for SLCO1B1\n",
      "\n",
      "/home/svenvdm/micromamba/envs/updated_diplotypes/lib/python3.12/site-packages/pypgx/api/core.py:1382: UserWarning:\n",
      "\n",
      "*17 not found in the allele table for SLCO1B1\n",
      "\n",
      "/home/svenvdm/micromamba/envs/updated_diplotypes/lib/python3.12/site-packages/pypgx/api/core.py:1382: UserWarning:\n",
      "\n",
      "*21 not found in the allele table for SLCO1B1\n",
      "\n",
      "/home/svenvdm/micromamba/envs/updated_diplotypes/lib/python3.12/site-packages/pypgx/api/core.py:1382: UserWarning:\n",
      "\n",
      "*21 not found in the allele table for SLCO1B1\n",
      "\n",
      "/home/svenvdm/micromamba/envs/updated_diplotypes/lib/python3.12/site-packages/pypgx/api/core.py:1382: UserWarning:\n",
      "\n",
      "*21 not found in the allele table for SLCO1B1\n",
      "\n",
      "/home/svenvdm/micromamba/envs/updated_diplotypes/lib/python3.12/site-packages/pypgx/api/core.py:1382: UserWarning:\n",
      "\n",
      "*21 not found in the allele table for SLCO1B1\n",
      "\n",
      "/home/svenvdm/micromamba/envs/updated_diplotypes/lib/python3.12/site-packages/pypgx/api/core.py:1382: UserWarning:\n",
      "\n",
      "*21 not found in the allele table for SLCO1B1\n",
      "\n",
      "/home/svenvdm/micromamba/envs/updated_diplotypes/lib/python3.12/site-packages/pypgx/api/core.py:1382: UserWarning:\n",
      "\n",
      "*17 not found in the allele table for SLCO1B1\n",
      "\n",
      "/home/svenvdm/micromamba/envs/updated_diplotypes/lib/python3.12/site-packages/pypgx/api/core.py:1382: UserWarning:\n",
      "\n",
      "*17 not found in the allele table for SLCO1B1\n",
      "\n",
      "/home/svenvdm/micromamba/envs/updated_diplotypes/lib/python3.12/site-packages/pypgx/api/core.py:1382: UserWarning:\n",
      "\n",
      "*17 not found in the allele table for SLCO1B1\n",
      "\n",
      "/home/svenvdm/micromamba/envs/updated_diplotypes/lib/python3.12/site-packages/pypgx/api/core.py:1382: UserWarning:\n",
      "\n",
      "*17 not found in the allele table for SLCO1B1\n",
      "\n",
      "/home/svenvdm/micromamba/envs/updated_diplotypes/lib/python3.12/site-packages/pypgx/api/core.py:1382: UserWarning:\n",
      "\n",
      "*17 not found in the allele table for SLCO1B1\n",
      "\n"
     ]
    }
   ],
   "source": [
    "updated_calls_df = (pd.read_excel(\"/mnt/c/Users/VDMAASS/PGx/PGx-position-paper/Supplemental_Experiments_Aldy2023.xlsx\",\n",
    "                     sheet_name = \"Short Reads\",\n",
    "                     header = 1)\n",
    "                     .filter([\"Sample\", \"Gene\", \"GeT-RM\", \"Updated Call\"])\n",
    "                     .dropna()\n",
    "                     .reset_index())\n",
    "updated_calls_df = updated_calls_df[~ (updated_calls_df[\"Updated Call\"].str.contains(\"?\", regex = False) |\n",
    "                                       updated_calls_df[\"Updated Call\"].str.contains(\"*\", regex = False))]\n",
    "\n",
    "# Process the diplotype patterns for easy comparison\n",
    "updated_calls_df[\"GeT-RM\"] = updated_calls_df[\"GeT-RM\"].apply(process_diplotype_patterns)\n",
    "updated_calls_df[\"Updated Call\"] = updated_calls_df[\"Updated Call\"].apply(process_diplotype_patterns)\n",
    "\n",
    "# Create lists of haplotypes from the diplotypes\n",
    "updated_calls_df[\"GeT-RM\"] = updated_calls_df[\"GeT-RM\"].apply(create_list_of_haplotypes_from_diplotype)\n",
    "updated_calls_df[\"Diplotype_lists\"] = updated_calls_df[\"Updated Call\"].apply(create_list_of_haplotypes_from_diplotype)\n",
    "# Predict the phenotypes for the updated diplotypes using the pypgx package\n",
    "updated_calls_df[\"Updated_phenotype\"] = updated_calls_df.apply(lambda x: list(set(predict_phenotypes(x[\"Gene\"], x[\"Diplotype_lists\"]))), axis = 1)\n",
    "updated_calls_df[\"Original_phenotype\"] = updated_calls_df.apply(lambda x: list(set(predict_phenotypes(x[\"Gene\"], x[\"GeT-RM\"]))), axis = 1)\n",
    "# Check if any of the updated phenotypes are in the original phenotypes\n",
    "updated_calls_df[\"Phenotype_Match\"] = updated_calls_df.apply(lambda x: any(phenotype in x[\"Original_phenotype\"] for phenotype in x[\"Updated_phenotype\"]), axis = 1)\n",
    "# Check if any of the updated diplotypes are in the original diplotypes\n",
    "updated_calls_df[\"Diplotype_Match\"] = updated_calls_df.apply(lambda x: any(diplotype in x[\"GeT-RM\"] for diplotype in x[\"Diplotype_lists\"]), axis = 1)\n"
   ]
  },
  {
   "cell_type": "markdown",
   "metadata": {},
   "source": [
    "Analysis of the updated diplotypes."
   ]
  },
  {
   "cell_type": "code",
   "execution_count": 12,
   "metadata": {},
   "outputs": [
    {
     "name": "stdout",
     "output_type": "stream",
     "text": [
      "       Gene       Mismatch_Type  Count\n",
      "0    CYP1A1           No_change      3\n",
      "1    CYP1A2           No_change      0\n",
      "2   CYP2A13           No_change      0\n",
      "3    CYP2A6           No_change      7\n",
      "4    CYP2B6           No_change     13\n",
      "5   CYP2C19           No_change      3\n",
      "6    CYP2C8           No_change      5\n",
      "7    CYP2C9           No_change      1\n",
      "8    CYP2J2           No_change      1\n",
      "9    CYP2S1           No_change      1\n",
      "10  CYP3A43           No_change      0\n",
      "11   CYP3A7           No_change      1\n",
      "12   CYP4F2           No_change     11\n",
      "13  SLCO1B1           No_change     10\n",
      "14   CYP1A1  Phenotype_Mismatch      0\n",
      "15   CYP1A2  Phenotype_Mismatch      0\n",
      "16  CYP2A13  Phenotype_Mismatch      0\n",
      "17   CYP2A6  Phenotype_Mismatch      0\n",
      "18   CYP2B6  Phenotype_Mismatch      7\n",
      "19  CYP2C19  Phenotype_Mismatch      0\n",
      "20   CYP2C8  Phenotype_Mismatch      0\n",
      "21   CYP2C9  Phenotype_Mismatch      0\n",
      "22   CYP2J2  Phenotype_Mismatch      0\n",
      "23   CYP2S1  Phenotype_Mismatch      0\n",
      "24  CYP3A43  Phenotype_Mismatch      0\n",
      "25   CYP3A7  Phenotype_Mismatch      0\n",
      "26   CYP4F2  Phenotype_Mismatch      0\n",
      "27  SLCO1B1  Phenotype_Mismatch      8\n",
      "28   CYP1A1  Diplotype_Mismatch     28\n",
      "29   CYP1A2  Diplotype_Mismatch      1\n",
      "30  CYP2A13  Diplotype_Mismatch     20\n",
      "31   CYP2A6  Diplotype_Mismatch      5\n",
      "32   CYP2B6  Diplotype_Mismatch     16\n",
      "33  CYP2C19  Diplotype_Mismatch      0\n",
      "34   CYP2C8  Diplotype_Mismatch      0\n",
      "35   CYP2C9  Diplotype_Mismatch      0\n",
      "36   CYP2J2  Diplotype_Mismatch      0\n",
      "37   CYP2S1  Diplotype_Mismatch      3\n",
      "38  CYP3A43  Diplotype_Mismatch     10\n",
      "39   CYP3A7  Diplotype_Mismatch      6\n",
      "40   CYP4F2  Diplotype_Mismatch      0\n",
      "41  SLCO1B1  Diplotype_Mismatch     24\n"
     ]
    }
   ],
   "source": [
    "\n",
    "# group by gene and count the number of non-matching phenotypes\n",
    "gene_stats = (updated_calls_df.groupby('Gene').agg({\n",
    "    'Diplotype_Match': 'sum',  # Assumes Diplotype_Match is boolean or 0/1\n",
    "    'Phenotype_Match': 'sum',  # Assumes Phenotype_Match is boolean or 0/1\n",
    "    'Gene': 'count'  # This gives the total number of rows (updated calls) for each gene\n",
    "    }))\n",
    "gene_stats.columns = ['Diplotype_Match', 'Phenotype_Match', 'Total_Updated_Calls']\n",
    "gene_stats['Phenotype_Mismatch'] = gene_stats['Total_Updated_Calls'] - gene_stats['Phenotype_Match']\n",
    "gene_stats['Diplotype_Mismatch'] = gene_stats['Total_Updated_Calls'] - gene_stats['Diplotype_Match']\n",
    "# also in percentage\n",
    "gene_stats['Phenotype_Mismatch_Percentage'] = gene_stats['Phenotype_Mismatch'] / gene_stats['Total_Updated_Calls'] * 100\n",
    "gene_stats['Diplotype_Mismatch_Percentage'] = gene_stats['Diplotype_Mismatch'] / gene_stats['Total_Updated_Calls'] * 100\n",
    "# calculate total for non-cumulative stacked bar chart plot\n",
    "gene_stats[\"No_change\"] = gene_stats[\"Total_Updated_Calls\"] - gene_stats[\"Diplotype_Mismatch\"] - gene_stats[\"Phenotype_Mismatch\"]\n",
    "\n",
    "# convert to tidy format\n",
    "gene_stats_tidy = gene_stats.filter([\"No_change\", \"Phenotype_Mismatch\", \"Diplotype_Mismatch\"]).reset_index().melt(id_vars = \"Gene\", var_name = \"Mismatch_Type\", value_name = \"Count\")\n",
    "print(gene_stats_tidy)"
   ]
  },
  {
   "cell_type": "markdown",
   "metadata": {},
   "source": [
    "Plotting"
   ]
  },
  {
   "cell_type": "markdown",
   "metadata": {},
   "source": []
  },
  {
   "cell_type": "code",
   "execution_count": 13,
   "metadata": {},
   "outputs": [
    {
     "data": {
      "image/png": "[encoded data removed]",
      "text/plain": [
       "<IPython.core.display.Image object>"
      ]
     },
     "metadata": {},
     "output_type": "display_data"
    }
   ],
   "source": [
    "%%R -i gene_stats_tidy\n",
    "\n",
    "ggplot(gene_stats_tidy, aes(x = Gene, y = Count, fill = Mismatch_Type)) +\n",
    "    geom_bar(stat = \"identity\", position = \"stack\") +\n",
    "    theme(axis.text.x = element_text(angle = 90, hjust = 1)) +\n",
    "    labs(title = \"Number of updated calls with mismatches)\")"
   ]
  },
  {
   "cell_type": "markdown",
   "metadata": {},
   "source": [
    "### 2.3.2 Heatmap depicting the number of affected recommendations per gene-drug pair."
   ]
  },
  {
   "cell_type": "code",
   "execution_count": 14,
   "metadata": {},
   "outputs": [
    {
     "name": "stdout",
     "output_type": "stream",
     "text": [
      "['nevirapine', 'efavirenz', 'methadone', 'sertraline', 'bupropion']\n",
      "      Sample     Gene    Updated_phenotype    Original_phenotype          Drug\n",
      "0    NA18617   CYP2B6  [Rapid Metabolizer]  [Normal Metabolizer]    nevirapine\n",
      "1    NA18617   CYP2B6  [Rapid Metabolizer]  [Normal Metabolizer]     efavirenz\n",
      "2    NA18617   CYP2B6  [Rapid Metabolizer]  [Normal Metabolizer]     methadone\n",
      "3    NA18617   CYP2B6  [Rapid Metabolizer]  [Normal Metabolizer]    sertraline\n",
      "4    NA18617   CYP2B6  [Rapid Metabolizer]  [Normal Metabolizer]     bupropion\n",
      "..       ...      ...                  ...                   ...           ...\n",
      "102  NA20296  SLCO1B1      [Indeterminate]     [Normal Function]  atorvastatin\n",
      "103  NA20296  SLCO1B1      [Indeterminate]     [Normal Function]   fluvastatin\n",
      "104  NA20296  SLCO1B1      [Indeterminate]     [Normal Function]   simvastatin\n",
      "105  NA20296  SLCO1B1      [Indeterminate]     [Normal Function]      elagolix\n",
      "106  NA20296  SLCO1B1      [Indeterminate]     [Normal Function]  rosuvastatin\n",
      "\n",
      "[107 rows x 5 columns]\n"
     ]
    }
   ],
   "source": [
    "df = pypgx.load_cpic_table()\n",
    "genes = gene_stats_tidy[\"Gene\"].unique()\n",
    "\n",
    "df = df[df[\"Gene\"].isin(genes)]\n",
    "\n",
    "\n",
    "# remove the rows that have a PharmGKB level of 4 or nan.\n",
    "df = df[~df[\"PharmGKBLevel\"].isin([4, \"nan\"])]\n",
    "#\n",
    "# df = df[df[\"CPICLevel\"].isin([\"A\",\"B\", \"B/C\"])]\n",
    "df = df[[\"Gene\", \"Drug\"]].reset_index(drop = True)\n",
    "\n",
    "\n",
    "\n",
    "# number of drugs per gene\n",
    "df = df.groupby(\"Gene\")[\"Drug\"].unique().reset_index()\n",
    "\n",
    "\n",
    "drugs_cyp2b6 = list(set(df.iloc[0][\"Drug\"]))\n",
    "drugs_slco1b1 = list(set(df.iloc[5][\"Drug\"]))\n",
    "\n",
    "drug_associations = {\n",
    "    \"CYP2B6\" : drugs_cyp2b6,\n",
    "    \"SLCO1B1\" : drugs_slco1b1\n",
    "}\n",
    "print(drugs_cyp2b6)\n",
    "\n",
    "def expand_row(row):\n",
    "    drugs = drug_associations[row['Gene']]\n",
    "    return pd.DataFrame({\n",
    "        'Sample': [row['Sample']] * len(drugs),\n",
    "        'Gene': [row['Gene']] * len(drugs),\n",
    "        'Updated_phenotype': [row['Updated_phenotype']] * len(drugs),\n",
    "        'Original_phenotype': [row['Original_phenotype']] * len(drugs),\n",
    "        'Drug': drugs\n",
    "    })\n",
    "\n",
    "# print(updated_calls_df)\n",
    "# keep only the rows that have a phenotype_mismatch\n",
    "\n",
    "updated_calls_df = updated_calls_df[updated_calls_df[\"Phenotype_Match\"] == False].reset_index(drop = True)\n",
    "\n",
    "\n",
    "# print(updated_calls_df[[\"Sample\", \"Gene\", \"Updated_phenotype\", \"Original_phenotype\"]])\n",
    "\n",
    "# Add the drugs that are associated with the gene.\n",
    "updated_calls_df = pd.concat(updated_calls_df.apply(expand_row, axis = 1).tolist(), ignore_index = True)\n",
    "print(updated_calls_df)"
   ]
  },
  {
   "cell_type": "code",
   "execution_count": 15,
   "metadata": {},
   "outputs": [
    {
     "ename": "IndentationError",
     "evalue": "expected an indented block after 'for' statement on line 13 (3108611352.py, line 16)",
     "output_type": "error",
     "traceback": [
      "\u001b[0;36m  Cell \u001b[0;32mIn[15], line 16\u001b[0;36m\u001b[0m\n\u001b[0;31m    print(updated_calls_df)\u001b[0m\n\u001b[0m    ^\u001b[0m\n\u001b[0;31mIndentationError\u001b[0m\u001b[0;31m:\u001b[0m expected an indented block after 'for' statement on line 13\n"
     ]
    }
   ],
   "source": [
    "\n",
    "\n",
    "def get_recommendation(drug: str, gene: str, phenotype: str) -> str:\n",
    "    try:\n",
    "        return pypgx.get_recommendation(drug, gene, phenotype)\n",
    "    except ValueError:\n",
    "        return \"No recommendation found\"\n",
    "\n",
    "updated_calls_df[\"Original_Recommendation\"] = updated_calls_df.apply(lambda x: get_recommendation(x[\"Drug\"], x[\"Gene\"], x[\"Original_phenotype\"][0]), axis = 1)\n",
    "\n",
    "updated_calls_df[\"Updated_Recommendation\"] = updated_calls_df.apply(lambda x: get_recommendation(x[\"Drug\"], x[\"Gene\"], x[\"Updated_phenotype\"][0]), axis = 1)\n",
    "\n",
    "updated_calls_df.to_excel(\"/mnt/c/Users/VDMAASS/PGx/PGx-position-paper/recommendations_updated_calls.xlsx\")\n",
    "\n",
    "for _, row in updated_calls_df.iterrows():\n",
    "    \n",
    "\n",
    "print(updated_calls_df)\n",
    "    \n"
   ]
  }
 ],
 "metadata": {
  "kernelspec": {
   "display_name": "Python 3",
   "language": "python",
   "name": "python3"
  },
  "language_info": {
   "codemirror_mode": {
    "name": "ipython",
    "version": 3
   },
   "file_extension": ".py",
   "mimetype": "text/x-python",
   "name": "python",
   "nbconvert_exporter": "python",
   "pygments_lexer": "ipython3",
   "version": "3.12.4"
  }
 },
 "nbformat": 4,
 "nbformat_minor": 2
}
